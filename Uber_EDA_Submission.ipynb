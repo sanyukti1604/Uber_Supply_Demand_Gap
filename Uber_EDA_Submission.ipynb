{
  "cells": [
    {
      "cell_type": "code",
      "execution_count": null,
      "metadata": {
        "id": "I1apcow5dxii"
      },
      "outputs": [],
      "source": []
    },
    {
      "cell_type": "markdown",
      "metadata": {
        "id": "vncDsAP0Gaoa"
      },
      "source": [
        "# **Project Name**  -Uber Supply Demand Gap \n",
        "\n"
      ]
    },
    {
      "cell_type": "markdown",
      "metadata": {
        "id": "beRrZCGUAJYm"
      },
      "source": [
        "##### **Project Type**    - EDA\n",
        "##### **Contribution**    - Individual\n",
        "\n",
        "##### **Team Member 1 -**\n",
        "##### **Team Member 2 -** \n",
        "##### **Team Member 3 -**\n",
        "##### **Team Member 4 -**"
      ]
    },
    {
      "cell_type": "markdown",
      "metadata": {
        "id": "FJNUwmbgGyua"
      },
      "source": [
        "# **Project Summary: Uber Supply Demand Gap "
      ]
    },
    {
      "cell_type": "markdown",
      "metadata": {
        "id": "F6v_1wHtG2nS"
      },
      "source": [
        "This project focuses on analyzing a real-world cab booking dataset to identify key trends, patterns, and operational challenges faced by a cab service company. The dataset includes booking details like request and drop timestamps, pickup locations (like City and Airport), driver IDs, and trip status (completed, cancelled, or no cars available). The main goal was to understand supply-demand gaps, trip success rates, and time-based travel behaviors, and to uncover insights that could help the business improve performance and customer satisfaction.\n",
        "\n",
        "Data Understanding and Preparation:\n",
        "\n",
        "At the start of the project, we loaded the cab booking dataset into Python and performed Exploratory Data Analysis (EDA). We examined the structure of the data by checking the number of rows and columns, understanding the types of variables, and identifying missing values or duplicates. Columns like request_id, driver_id, pickup_point, status, request_date, request_time, and drop_timestamp were found in the dataset.\n",
        "To make analysis easier, we combined request_date and request_time into a single request_timestamp column and ensured both request_timestamp and drop_timestamp were properly converted to datetime format. We also calculated a new column trip_duration by subtracting the request time from the drop time (in minutes), which helped us measure how long completed trips took.\n",
        "\n",
        "Data Cleaning and Wrangling:\n",
        "\n",
        "Several cleaning steps were applied. We removed any duplicate records, handled missing values, and fixed incorrect data types. For example, some timestamps were missing or malformed, so we used errors='coerce' while converting to datetime to avoid crashes. After cleaning, we were left with a clean dataset ready for analysis and visualization.\n",
        "\n",
        "We also extracted useful features like the hour of request (request_hour) and request date (request_date) for time-based analysis.\n",
        "\n",
        "Visualizations and Insights:\n",
        "\n",
        "To gain deeper understanding, we used several visual charts created with Python libraries like Seaborn and Matplotlib.\n",
        "Countplot of trip status by pickup point showed that the City had more “no cars available” issues, while Airport had more completed trips.\n",
        "Line plot of trip requests by hour helped identify peak demand times — mostly in early morning and evening hours.\n",
        "Heatmap of correlations between numeric columns like trip_duration, request_hour, and driver activity gave us insights into how different variables were related.\n",
        "Boxplot of trip durations by pickup point and status revealed that Airport trips tended to last longer, and cancelled trips had much shorter durations — often indicating early cancellation.\n",
        "A stacked bar chart of daily trip statuses gave a timeline view of how performance varied day by day.\n",
        "All visuals helped in spotting patterns that aren't obvious from raw numbers.\n",
        "\n",
        "Business Impact and Conclusion:\n",
        "\n",
        "The insights gained from this analysis can create a positive impact for the business in several ways:\n",
        "Understanding peak hours and locations helps allocate drivers more efficiently, reducing the number of cancelled and failed trips.\n",
        "Knowing that the City area often lacks cars during peak hours can prompt targeted driver deployment or dynamic pricing.\n",
        "Identifying relationships between variables helps in building smarter prediction models — such as predicting trip success or optimizing response time.\n",
        "Accurate trip duration analysis supports better fare estimation and customer transparency.\n",
        "In summary, this project not only cleaned and visualized the Uber cab data, but also translated it into clear, actionable business insights. It demonstrates how data science can solve real-world problems in transportation and logistics by helping companies optimize their resources and deliver better customer service.\n",
        "\n"
      ]
    },
    {
      "cell_type": "markdown",
      "metadata": {
        "id": "w6K7xa23Elo4"
      },
      "source": [
        "# **GitHub Link -**"
      ]
    },
    {
      "cell_type": "markdown",
      "metadata": {
        "id": "h1o69JH3Eqqn"
      },
      "source": [
        "Provide your GitHub Link here."
      ]
    },
    {
      "cell_type": "markdown",
      "metadata": {
        "id": "yQaldy8SH6Dl"
      },
      "source": [
        "# **Problem Statement**\n"
      ]
    },
    {
      "cell_type": "markdown",
      "metadata": {
        "id": "DpeJGUA3kjGy"
      },
      "source": [
        "**Write Problem Statement Here.** :\n",
        "\n",
        "A cab service company is facing challenges in managing customer trip requests, especially during peak hours and in high-demand areas like airports and city centers. Many users are experiencing cancelled rides or getting the “No Cars Available” status due to poor driver allocation or uneven supply. On the other side, drivers may be idle during low-demand periods or in certain locations.\n",
        "\n",
        "The company needs a better understanding of when and where trip requests are happening, why some trips are not being completed, and how driver availability is affecting customer satisfaction and business performance.\n",
        "\n",
        "This project aims to explore the trip booking data in detail including pickup locations, timestamps, trip statuses, and driver information  to uncover insights about supply-demand gaps, ride success patterns, and peak traffic times. By analyzing this data visually and statistically, we hope to provide the company with clear, data-driven recommendations to improve efficiency, reduce cancellations, and enhance the customer experience.\n",
        "\n"
      ]
    },
    {
      "cell_type": "markdown",
      "metadata": {
        "id": "PH-0ReGfmX4f"
      },
      "source": [
        "#### **Define Your Business Objective?**"
      ]
    },
    {
      "cell_type": "markdown",
      "metadata": {
        "id": "PhDvGCAqmjP1"
      },
      "source": [
        "Answer Here:\n",
        "The goal of this project is to help the cab company understand when and where most trip requests happen, and why some rides get cancelled or fail. By analyzing patterns in the data, we aim to give useful insights that can improve driver availability, reduce trip cancellations, and make sure more customers get a cab when they need one. This will help the company serve customers better and run more efficiently."
      ]
    },
    {
      "cell_type": "markdown",
      "metadata": {
        "id": "mDgbUHAGgjLW"
      },
      "source": [
        "# **General Guidelines** : -  "
      ]
    },
    {
      "cell_type": "markdown",
      "metadata": {
        "id": "ZrxVaUj-hHfC"
      },
      "source": [
        "1.   Well-structured, formatted, and commented code is required.\n",
        "2.   Exception Handling, Production Grade Code & Deployment Ready Code will be a plus. Those students will be awarded some additional credits.\n",
        "     \n",
        "     The additional credits will have advantages over other students during Star Student selection.\n",
        "       \n",
        "             [ Note: - Deployment Ready Code is defined as, the whole .ipynb notebook should be executable in one go\n",
        "                       without a single error logged. ]\n",
        "\n",
        "3.   Each and every logic should have proper comments.\n",
        "4. You may add as many number of charts you want. Make Sure for each and every chart the following format should be answered.\n",
        "        \n",
        "\n",
        "```\n",
        "# Chart visualization code\n",
        "```\n",
        "            \n",
        "\n",
        "*   Why did you pick the specific chart?\n",
        "*   What is/are the insight(s) found from the chart?\n",
        "* Will the gained insights help creating a positive business impact?\n",
        "Are there any insights that lead to negative growth? Justify with specific reason.\n",
        "\n",
        "5. You have to create at least 20 logical & meaningful charts having important insights.\n",
        "\n",
        "\n",
        "[ Hints : - Do the Vizualization in  a structured way while following \"UBM\" Rule.\n",
        "\n",
        "U - Univariate Analysis,\n",
        "\n",
        "B - Bivariate Analysis (Numerical - Categorical, Numerical - Numerical, Categorical - Categorical)\n",
        "\n",
        "M - Multivariate Analysis\n",
        " ]\n",
        "\n",
        "\n",
        "\n"
      ]
    },
    {
      "cell_type": "markdown",
      "metadata": {
        "id": "O_i_v8NEhb9l"
      },
      "source": [
        "# ***Let's Begin !***"
      ]
    },
    {
      "cell_type": "markdown",
      "metadata": {
        "id": "HhfV-JJviCcP"
      },
      "source": [
        "## ***1. Know Your Data***"
      ]
    },
    {
      "cell_type": "markdown",
      "metadata": {
        "id": "Y3lxredqlCYt"
      },
      "source": [
        "### Import Libraries"
      ]
    },
    {
      "cell_type": "code",
      "execution_count": 26,
      "metadata": {
        "id": "M8Vqi-pPk-HR"
      },
      "outputs": [
        {
          "name": "stdout",
          "output_type": "stream",
          "text": [
            "Defaulting to user installation because normal site-packages is not writeable\n",
            "Requirement already satisfied: missingno in c:\\users\\shrut\\appdata\\roaming\\python\\python313\\site-packages (0.5.2)\n",
            "Requirement already satisfied: numpy in c:\\users\\shrut\\appdata\\roaming\\python\\python313\\site-packages (from missingno) (2.2.6)\n",
            "Requirement already satisfied: matplotlib in c:\\users\\shrut\\appdata\\roaming\\python\\python313\\site-packages (from missingno) (3.10.3)\n",
            "Requirement already satisfied: scipy in c:\\users\\shrut\\appdata\\roaming\\python\\python313\\site-packages (from missingno) (1.15.3)\n",
            "Requirement already satisfied: seaborn in c:\\users\\shrut\\appdata\\roaming\\python\\python313\\site-packages (from missingno) (0.13.2)\n",
            "Requirement already satisfied: contourpy>=1.0.1 in c:\\users\\shrut\\appdata\\roaming\\python\\python313\\site-packages (from matplotlib->missingno) (1.3.2)\n",
            "Requirement already satisfied: cycler>=0.10 in c:\\users\\shrut\\appdata\\roaming\\python\\python313\\site-packages (from matplotlib->missingno) (0.12.1)\n",
            "Requirement already satisfied: fonttools>=4.22.0 in c:\\users\\shrut\\appdata\\roaming\\python\\python313\\site-packages (from matplotlib->missingno) (4.58.2)\n",
            "Requirement already satisfied: kiwisolver>=1.3.1 in c:\\users\\shrut\\appdata\\roaming\\python\\python313\\site-packages (from matplotlib->missingno) (1.4.8)\n",
            "Requirement already satisfied: packaging>=20.0 in c:\\users\\shrut\\appdata\\roaming\\python\\python313\\site-packages (from matplotlib->missingno) (25.0)\n",
            "Requirement already satisfied: pillow>=8 in c:\\users\\shrut\\appdata\\roaming\\python\\python313\\site-packages (from matplotlib->missingno) (11.2.1)\n",
            "Requirement already satisfied: pyparsing>=2.3.1 in c:\\users\\shrut\\appdata\\roaming\\python\\python313\\site-packages (from matplotlib->missingno) (3.2.3)\n",
            "Requirement already satisfied: python-dateutil>=2.7 in c:\\users\\shrut\\appdata\\roaming\\python\\python313\\site-packages (from matplotlib->missingno) (2.9.0.post0)\n",
            "Requirement already satisfied: six>=1.5 in c:\\users\\shrut\\appdata\\roaming\\python\\python313\\site-packages (from python-dateutil>=2.7->matplotlib->missingno) (1.17.0)\n",
            "Requirement already satisfied: pandas>=1.2 in c:\\users\\shrut\\appdata\\roaming\\python\\python313\\site-packages (from seaborn->missingno) (2.3.0)\n",
            "Requirement already satisfied: pytz>=2020.1 in c:\\users\\shrut\\appdata\\roaming\\python\\python313\\site-packages (from pandas>=1.2->seaborn->missingno) (2025.2)\n",
            "Requirement already satisfied: tzdata>=2022.7 in c:\\users\\shrut\\appdata\\roaming\\python\\python313\\site-packages (from pandas>=1.2->seaborn->missingno) (2025.2)\n"
          ]
        }
      ],
      "source": [
        "! pip install missingno "
      ]
    },
    {
      "cell_type": "code",
      "execution_count": 1,
      "metadata": {},
      "outputs": [],
      "source": [
        "import pandas as pd\n",
        "import matplotlib.pyplot as plt\n",
        "import seaborn as sns\n",
        "sns.set(style=\"whitegrid\")\n",
        "\n"
      ]
    },
    {
      "cell_type": "markdown",
      "metadata": {
        "id": "3RnN4peoiCZX"
      },
      "source": [
        "### Dataset Loading"
      ]
    },
    {
      "cell_type": "code",
      "execution_count": 8,
      "metadata": {
        "id": "4CkvbW_SlZ_R"
      },
      "outputs": [
        {
          "data": {
            "text/html": [
              "<div>\n",
              "<style scoped>\n",
              "    .dataframe tbody tr th:only-of-type {\n",
              "        vertical-align: middle;\n",
              "    }\n",
              "\n",
              "    .dataframe tbody tr th {\n",
              "        vertical-align: top;\n",
              "    }\n",
              "\n",
              "    .dataframe thead th {\n",
              "        text-align: right;\n",
              "    }\n",
              "</style>\n",
              "<table border=\"1\" class=\"dataframe\">\n",
              "  <thead>\n",
              "    <tr style=\"text-align: right;\">\n",
              "      <th></th>\n",
              "      <th>Request_id</th>\n",
              "      <th>Pickup_point</th>\n",
              "      <th>Driver_id</th>\n",
              "      <th>Status</th>\n",
              "      <th>Request_timestamp</th>\n",
              "      <th>Drop_timestamp</th>\n",
              "    </tr>\n",
              "  </thead>\n",
              "  <tbody>\n",
              "    <tr>\n",
              "      <th>0</th>\n",
              "      <td>619</td>\n",
              "      <td>Airport</td>\n",
              "      <td>1.0</td>\n",
              "      <td>Trip Completed</td>\n",
              "      <td>11/07/2016 11:51</td>\n",
              "      <td>11/07/2016 13:00</td>\n",
              "    </tr>\n",
              "    <tr>\n",
              "      <th>1</th>\n",
              "      <td>867</td>\n",
              "      <td>Airport</td>\n",
              "      <td>1.0</td>\n",
              "      <td>Trip Completed</td>\n",
              "      <td>11/07/2016 17:57</td>\n",
              "      <td>11/07/2016 18:47</td>\n",
              "    </tr>\n",
              "    <tr>\n",
              "      <th>2</th>\n",
              "      <td>1807</td>\n",
              "      <td>City</td>\n",
              "      <td>1.0</td>\n",
              "      <td>Trip Completed</td>\n",
              "      <td>12/07/2016 09:17</td>\n",
              "      <td>12/07/2016 09:58</td>\n",
              "    </tr>\n",
              "    <tr>\n",
              "      <th>3</th>\n",
              "      <td>2532</td>\n",
              "      <td>Airport</td>\n",
              "      <td>1.0</td>\n",
              "      <td>Trip Completed</td>\n",
              "      <td>12/07/2016 21:08</td>\n",
              "      <td>12/07/2016 22:03</td>\n",
              "    </tr>\n",
              "    <tr>\n",
              "      <th>4</th>\n",
              "      <td>3112</td>\n",
              "      <td>City</td>\n",
              "      <td>1.0</td>\n",
              "      <td>Trip Completed</td>\n",
              "      <td>13/07/2016 08:33</td>\n",
              "      <td>13/07/2016 09:25</td>\n",
              "    </tr>\n",
              "    <tr>\n",
              "      <th>...</th>\n",
              "      <td>...</td>\n",
              "      <td>...</td>\n",
              "      <td>...</td>\n",
              "      <td>...</td>\n",
              "      <td>...</td>\n",
              "      <td>...</td>\n",
              "    </tr>\n",
              "    <tr>\n",
              "      <th>3995</th>\n",
              "      <td>3552</td>\n",
              "      <td>Airport</td>\n",
              "      <td>277.0</td>\n",
              "      <td>Cancelled</td>\n",
              "      <td>13/07/2016 18:01</td>\n",
              "      <td>NaN</td>\n",
              "    </tr>\n",
              "    <tr>\n",
              "      <th>3996</th>\n",
              "      <td>4130</td>\n",
              "      <td>City</td>\n",
              "      <td>277.0</td>\n",
              "      <td>Cancelled</td>\n",
              "      <td>14/07/2016 04:41</td>\n",
              "      <td>NaN</td>\n",
              "    </tr>\n",
              "    <tr>\n",
              "      <th>3997</th>\n",
              "      <td>294</td>\n",
              "      <td>City</td>\n",
              "      <td>278.0</td>\n",
              "      <td>Cancelled</td>\n",
              "      <td>11/07/2016 07:12</td>\n",
              "      <td>NaN</td>\n",
              "    </tr>\n",
              "    <tr>\n",
              "      <th>3998</th>\n",
              "      <td>315</td>\n",
              "      <td>City</td>\n",
              "      <td>278.0</td>\n",
              "      <td>Cancelled</td>\n",
              "      <td>11/07/2016 07:34</td>\n",
              "      <td>NaN</td>\n",
              "    </tr>\n",
              "    <tr>\n",
              "      <th>3999</th>\n",
              "      <td>1718</td>\n",
              "      <td>City</td>\n",
              "      <td>278.0</td>\n",
              "      <td>Cancelled</td>\n",
              "      <td>12/07/2016 08:14</td>\n",
              "      <td>NaN</td>\n",
              "    </tr>\n",
              "  </tbody>\n",
              "</table>\n",
              "<p>4000 rows × 6 columns</p>\n",
              "</div>"
            ],
            "text/plain": [
              "      Request_id Pickup_point  Driver_id          Status Request_timestamp  \\\n",
              "0            619      Airport        1.0  Trip Completed  11/07/2016 11:51   \n",
              "1            867      Airport        1.0  Trip Completed  11/07/2016 17:57   \n",
              "2           1807         City        1.0  Trip Completed  12/07/2016 09:17   \n",
              "3           2532      Airport        1.0  Trip Completed  12/07/2016 21:08   \n",
              "4           3112         City        1.0  Trip Completed  13/07/2016 08:33   \n",
              "...          ...          ...        ...             ...               ...   \n",
              "3995        3552      Airport      277.0       Cancelled  13/07/2016 18:01   \n",
              "3996        4130         City      277.0       Cancelled  14/07/2016 04:41   \n",
              "3997         294         City      278.0       Cancelled  11/07/2016 07:12   \n",
              "3998         315         City      278.0       Cancelled  11/07/2016 07:34   \n",
              "3999        1718         City      278.0       Cancelled  12/07/2016 08:14   \n",
              "\n",
              "        Drop_timestamp  \n",
              "0     11/07/2016 13:00  \n",
              "1     11/07/2016 18:47  \n",
              "2     12/07/2016 09:58  \n",
              "3     12/07/2016 22:03  \n",
              "4     13/07/2016 09:25  \n",
              "...                ...  \n",
              "3995               NaN  \n",
              "3996               NaN  \n",
              "3997               NaN  \n",
              "3998               NaN  \n",
              "3999               NaN  \n",
              "\n",
              "[4000 rows x 6 columns]"
            ]
          },
          "execution_count": 8,
          "metadata": {},
          "output_type": "execute_result"
        }
      ],
      "source": [
        "df = pd.read_csv(\"Uber_Request_Data.csv\")\n",
        "df.head(4000)"
      ]
    },
    {
      "cell_type": "markdown",
      "metadata": {
        "id": "x71ZqKXriCWQ"
      },
      "source": [
        "### Dataset First View"
      ]
    },
    {
      "cell_type": "markdown",
      "metadata": {},
      "source": []
    },
    {
      "cell_type": "code",
      "execution_count": 9,
      "metadata": {
        "id": "LWNFOSvLl09H"
      },
      "outputs": [
        {
          "data": {
            "text/html": [
              "<div>\n",
              "<style scoped>\n",
              "    .dataframe tbody tr th:only-of-type {\n",
              "        vertical-align: middle;\n",
              "    }\n",
              "\n",
              "    .dataframe tbody tr th {\n",
              "        vertical-align: top;\n",
              "    }\n",
              "\n",
              "    .dataframe thead th {\n",
              "        text-align: right;\n",
              "    }\n",
              "</style>\n",
              "<table border=\"1\" class=\"dataframe\">\n",
              "  <thead>\n",
              "    <tr style=\"text-align: right;\">\n",
              "      <th></th>\n",
              "      <th>Request_id</th>\n",
              "      <th>Pickup_point</th>\n",
              "      <th>Driver_id</th>\n",
              "      <th>Status</th>\n",
              "      <th>Request_timestamp</th>\n",
              "      <th>Drop_timestamp</th>\n",
              "    </tr>\n",
              "  </thead>\n",
              "  <tbody>\n",
              "    <tr>\n",
              "      <th>0</th>\n",
              "      <td>619</td>\n",
              "      <td>Airport</td>\n",
              "      <td>1.0</td>\n",
              "      <td>Trip Completed</td>\n",
              "      <td>11/07/2016 11:51</td>\n",
              "      <td>11/07/2016 13:00</td>\n",
              "    </tr>\n",
              "    <tr>\n",
              "      <th>1</th>\n",
              "      <td>867</td>\n",
              "      <td>Airport</td>\n",
              "      <td>1.0</td>\n",
              "      <td>Trip Completed</td>\n",
              "      <td>11/07/2016 17:57</td>\n",
              "      <td>11/07/2016 18:47</td>\n",
              "    </tr>\n",
              "    <tr>\n",
              "      <th>2</th>\n",
              "      <td>1807</td>\n",
              "      <td>City</td>\n",
              "      <td>1.0</td>\n",
              "      <td>Trip Completed</td>\n",
              "      <td>12/07/2016 09:17</td>\n",
              "      <td>12/07/2016 09:58</td>\n",
              "    </tr>\n",
              "    <tr>\n",
              "      <th>3</th>\n",
              "      <td>2532</td>\n",
              "      <td>Airport</td>\n",
              "      <td>1.0</td>\n",
              "      <td>Trip Completed</td>\n",
              "      <td>12/07/2016 21:08</td>\n",
              "      <td>12/07/2016 22:03</td>\n",
              "    </tr>\n",
              "    <tr>\n",
              "      <th>4</th>\n",
              "      <td>3112</td>\n",
              "      <td>City</td>\n",
              "      <td>1.0</td>\n",
              "      <td>Trip Completed</td>\n",
              "      <td>13/07/2016 08:33</td>\n",
              "      <td>13/07/2016 09:25</td>\n",
              "    </tr>\n",
              "  </tbody>\n",
              "</table>\n",
              "</div>"
            ],
            "text/plain": [
              "   Request_id Pickup_point  Driver_id          Status Request_timestamp  \\\n",
              "0         619      Airport        1.0  Trip Completed  11/07/2016 11:51   \n",
              "1         867      Airport        1.0  Trip Completed  11/07/2016 17:57   \n",
              "2        1807         City        1.0  Trip Completed  12/07/2016 09:17   \n",
              "3        2532      Airport        1.0  Trip Completed  12/07/2016 21:08   \n",
              "4        3112         City        1.0  Trip Completed  13/07/2016 08:33   \n",
              "\n",
              "     Drop_timestamp  \n",
              "0  11/07/2016 13:00  \n",
              "1  11/07/2016 18:47  \n",
              "2  12/07/2016 09:58  \n",
              "3  12/07/2016 22:03  \n",
              "4  13/07/2016 09:25  "
            ]
          },
          "execution_count": 9,
          "metadata": {},
          "output_type": "execute_result"
        }
      ],
      "source": [
        "# Dataset First Look\n",
        "(df.head())\n"
      ]
    },
    {
      "cell_type": "markdown",
      "metadata": {
        "id": "7hBIi_osiCS2"
      },
      "source": [
        "### Dataset Rows & Columns count"
      ]
    },
    {
      "cell_type": "code",
      "execution_count": 10,
      "metadata": {
        "id": "Kllu7SJgmLij"
      },
      "outputs": [
        {
          "name": "stdout",
          "output_type": "stream",
          "text": [
            "Uber_Request_Data (6745, 6)\n"
          ]
        }
      ],
      "source": [
        "print(\"Uber_Request_Data\",df.shape)"
      ]
    },
    {
      "cell_type": "markdown",
      "metadata": {
        "id": "JlHwYmJAmNHm"
      },
      "source": [
        "### Dataset Information"
      ]
    },
    {
      "cell_type": "code",
      "execution_count": 31,
      "metadata": {
        "id": "e9hRXRi6meOf"
      },
      "outputs": [
        {
          "name": "stdout",
          "output_type": "stream",
          "text": [
            "<class 'pandas.core.frame.DataFrame'>\n",
            "RangeIndex: 6745 entries, 0 to 6744\n",
            "Data columns (total 6 columns):\n",
            " #   Column             Non-Null Count  Dtype  \n",
            "---  ------             --------------  -----  \n",
            " 0   Request_id         6745 non-null   int64  \n",
            " 1   Pickup_point       6745 non-null   object \n",
            " 2   Driver_id          4095 non-null   float64\n",
            " 3   Status             6745 non-null   object \n",
            " 4   Request_timestamp  6745 non-null   object \n",
            " 5   Drop_timestamp     2831 non-null   object \n",
            "dtypes: float64(1), int64(1), object(4)\n",
            "memory usage: 316.3+ KB\n",
            "None\n"
          ]
        }
      ],
      "source": [
        "print(df.info())"
      ]
    },
    {
      "cell_type": "markdown",
      "metadata": {
        "id": "35m5QtbWiB9F"
      },
      "source": [
        "#### Duplicate Values"
      ]
    },
    {
      "cell_type": "code",
      "execution_count": 32,
      "metadata": {
        "id": "1sLdpKYkmox0"
      },
      "outputs": [
        {
          "data": {
            "text/plain": [
              "np.int64(0)"
            ]
          },
          "execution_count": 32,
          "metadata": {},
          "output_type": "execute_result"
        }
      ],
      "source": [
        "# Dataset Duplicate Value Count\n",
        "df.duplicated().sum()"
      ]
    },
    {
      "cell_type": "markdown",
      "metadata": {
        "id": "PoPl-ycgm1ru"
      },
      "source": [
        "#### Missing Values/Null Values"
      ]
    },
    {
      "cell_type": "code",
      "execution_count": 33,
      "metadata": {
        "id": "GgHWkxvamxVg"
      },
      "outputs": [
        {
          "data": {
            "text/plain": [
              "Request_id              0\n",
              "Pickup_point            0\n",
              "Driver_id            2650\n",
              "Status                  0\n",
              "Request_timestamp       0\n",
              "Drop_timestamp       3914\n",
              "dtype: int64"
            ]
          },
          "execution_count": 33,
          "metadata": {},
          "output_type": "execute_result"
        }
      ],
      "source": [
        "# Missing Values/Null Values Count \n",
        "df.isnull().sum()"
      ]
    },
    {
      "cell_type": "code",
      "execution_count": 34,
      "metadata": {
        "id": "3q5wnI3om9sJ"
      },
      "outputs": [
        {
          "data": {
            "text/plain": [
              "<Axes: >"
            ]
          },
          "execution_count": 34,
          "metadata": {},
          "output_type": "execute_result"
        },
        {
          "data": {
            "image/png": "[encoded data removed]",
            "text/plain": [
              "<Figure size 2500x1000 with 3 Axes>"
            ]
          },
          "metadata": {},
          "output_type": "display_data"
        }
      ],
      "source": [
        "# Visualizing the missing values\n",
        "import missingno as msno \n",
        "msno.bar(df)"
      ]
    },
    {
      "cell_type": "markdown",
      "metadata": {
        "id": "H0kj-8xxnORC"
      },
      "source": [
        "### What did you know about your dataset?"
      ]
    },
    {
      "cell_type": "markdown",
      "metadata": {
        "id": "gfoNAAC-nUe_"
      },
      "source": [
        "Answer Here : This dataset records what happens every time someone tries to book a cab — just like how we use Uber. Each row is one booking attempt made by a user.\n",
        "              The Customer – the person requesting the ride.\n",
        "              The Driver – the person who may or may not accept the ride.\n",
        "              The Company – who provides the platform and matches drivers with customers.\n",
        "\n",
        "              What Can We Learn from This?\n",
        "              This dataset helps you understand where problems are happening in the system. For example:\n",
        "              When are most people booking rides? (Morning, evening, etc.)\n",
        "              Are there times when lots of people want a ride, but no cars are available?\n",
        "              Which locations face more cancellations or delays?\n",
        "              How well is the company meeting the demand?"
      ]
    },
    {
      "cell_type": "markdown",
      "metadata": {
        "id": "nA9Y7ga8ng1Z"
      },
      "source": [
        "## ***2. Understanding Your Variables***"
      ]
    },
    {
      "cell_type": "markdown",
      "metadata": {
        "id": "j7xfkqrt5Ag5"
      },
      "source": [
        "# Dataset Columns\n",
        "  Request_id,\n",
        "  Driver_id,\n",
        "  Pickup,\n",
        "  status: Trip Completed, No car available, Cancelled,\n",
        "  Request Date and Time,     \n",
        "  Drop Date and Time, "
      ]
    },
    {
      "cell_type": "markdown",
      "metadata": {
        "id": "DnOaZdaE5Q5t"
      },
      "source": [
        "# Dataset Describe\n",
        "This dataset contains ride booking data from an Uber-like cab service platform. It includes details of each booking attempt, such as request time, pickup location, driver assignment, and final trip status. The data helps analyze demand patterns, identify supply gaps, and improve overall fleet efficiency."
      ]
    },
    {
      "cell_type": "markdown",
      "metadata": {
        "id": "PBTbrJXOngz2"
      },
      "source": [
        "### Variables Description"
      ]
    },
    {
      "cell_type": "markdown",
      "metadata": {
        "id": "aJV4KIxSnxay"
      },
      "source": [
        "Answer Here: Request ID – a unique number for each booking\n",
        "\n",
        "            Driver ID – shows which driver accepted the ride (if any)\n",
        "\n",
        "            pickup Point – the location where the customer wanted to be picked up (like “Airport” or “City”)\n",
        "\n",
        "            Status – tells what happened to that request\n",
        "\n",
        "            Trip Completed – ride happened successfully\n",
        "\n",
        "            Cancelled – either driver or customer cancelled\n",
        "\n",
        "            No Cars Available – no driver accepted the ride\n",
        "\n",
        "           Request Time & Date – when the customer booked the cab\n",
        "\n",
        "           Drop Time & Date – when the ride ended (only available if the ride was completed)"
      ]
    },
    {
      "cell_type": "markdown",
      "metadata": {
        "id": "u3PMJOP6ngxN"
      },
      "source": [
        "### Check Unique Values for each variable."
      ]
    },
    {
      "cell_type": "code",
      "execution_count": 35,
      "metadata": {
        "id": "zms12Yq5n-jE"
      },
      "outputs": [
        {
          "data": {
            "text/plain": [
              "array([ 619,  867, 1807, ..., 6751, 6754, 6753], shape=(6745,))"
            ]
          },
          "execution_count": 35,
          "metadata": {},
          "output_type": "execute_result"
        }
      ],
      "source": [
        "# Check Unique Values for each variable.\n",
        "\n",
        "df['Request_id'].unique()\n"
      ]
    },
    {
      "cell_type": "code",
      "execution_count": 36,
      "metadata": {},
      "outputs": [
        {
          "data": {
            "text/plain": [
              "array([  1.,   2.,   3.,   4.,   5.,   6.,   7.,   8.,   9.,  10.,  11.,\n",
              "        12.,  13.,  14.,  15.,  16.,  17.,  18.,  19.,  20.,  21.,  22.,\n",
              "        23.,  24.,  25.,  26.,  27.,  28.,  29.,  30.,  31.,  32.,  33.,\n",
              "        34.,  35.,  36.,  37.,  38.,  39.,  40.,  41.,  42.,  43.,  44.,\n",
              "        45.,  46.,  47.,  48.,  49.,  50.,  51.,  52.,  53.,  54.,  55.,\n",
              "        56.,  57.,  58.,  59.,  60.,  61.,  62.,  63.,  64.,  65.,  66.,\n",
              "        67.,  68.,  69.,  70.,  71.,  72.,  73.,  74.,  75.,  76.,  77.,\n",
              "        78.,  79.,  80.,  81.,  82.,  83.,  84.,  85.,  86.,  87.,  88.,\n",
              "        89.,  90.,  91.,  92.,  93.,  94.,  95.,  96.,  97.,  98.,  99.,\n",
              "       100., 101., 102., 103., 104., 105., 106., 107., 108., 109., 110.,\n",
              "       111., 112., 113., 114., 115., 116., 117., 118., 119., 120., 121.,\n",
              "       122., 123., 124., 125., 126., 127., 128., 129., 130., 131., 132.,\n",
              "       133., 134., 135., 136., 137., 138., 139., 140., 141., 142., 143.,\n",
              "       144., 145., 146., 147., 148., 149., 150., 151., 152., 153., 154.,\n",
              "       155., 156., 157., 158., 159., 160., 161., 162., 163., 164., 165.,\n",
              "       166., 167., 168., 169., 170., 171., 172., 173., 174., 175., 176.,\n",
              "       177., 178., 179., 180., 181., 182., 183., 184., 185., 186., 187.,\n",
              "       188., 189., 190., 191., 192., 193., 194., 195., 196., 197., 198.,\n",
              "       199., 200., 201., 202., 203., 204., 205., 206., 207., 208., 209.,\n",
              "       210., 211., 212., 213., 214., 215., 216., 217., 218., 219., 220.,\n",
              "       221., 222., 223., 224., 225., 226., 227., 228., 229., 230., 231.,\n",
              "       232., 233., 234., 235., 236., 237., 238., 239., 240., 241., 242.,\n",
              "       243., 244., 245., 246., 247., 248., 249., 250., 251., 252., 253.,\n",
              "       254., 255., 256., 257., 258., 259., 260., 261., 262., 263., 264.,\n",
              "       265., 266., 267., 268., 269., 270., 271., 272., 273., 274., 275.,\n",
              "       276., 277., 278., 279., 280., 281., 282., 283., 284., 285., 286.,\n",
              "       287., 288., 289., 290., 291., 292., 293., 294., 295., 296., 297.,\n",
              "       298., 299., 300.,  nan])"
            ]
          },
          "execution_count": 36,
          "metadata": {},
          "output_type": "execute_result"
        }
      ],
      "source": [
        "df['Driver_id'].unique()"
      ]
    },
    {
      "cell_type": "code",
      "execution_count": 38,
      "metadata": {},
      "outputs": [
        {
          "data": {
            "text/plain": [
              "array(['Airport', 'City'], dtype=object)"
            ]
          },
          "execution_count": 38,
          "metadata": {},
          "output_type": "execute_result"
        }
      ],
      "source": [
        "df['Pickup_point'].unique()"
      ]
    },
    {
      "cell_type": "code",
      "execution_count": null,
      "metadata": {},
      "outputs": [
        {
          "data": {
            "text/plain": [
              "array(['Trip Completed', 'Cancelled', 'No Cars Available'], dtype=object)"
            ]
          },
          "execution_count": 40,
          "metadata": {},
          "output_type": "execute_result"
        }
      ],
      "source": [
        "df['Status'].unique()"
      ]
    },
    {
      "cell_type": "code",
      "execution_count": null,
      "metadata": {},
      "outputs": [
        {
          "data": {
            "text/plain": [
              "array(['11/07/2016 11:51', '11/07/2016 17:57', '12/07/2016 09:17', ...,\n",
              "       '15/07/2016 23:52', '15/07/2016 23:54', '15/07/2016 23:55'],\n",
              "      shape=(4016,), dtype=object)"
            ]
          },
          "execution_count": 42,
          "metadata": {},
          "output_type": "execute_result"
        }
      ],
      "source": [
        "df['Request_timestamp'].unique()"
      ]
    },
    {
      "cell_type": "code",
      "execution_count": 43,
      "metadata": {},
      "outputs": [
        {
          "data": {
            "text/plain": [
              "array(['11/07/2016 13:00', '11/07/2016 18:47', '12/07/2016 09:58', ...,\n",
              "       '11/07/2016 23:35', '13/07/2016 07:20', nan],\n",
              "      shape=(2283,), dtype=object)"
            ]
          },
          "execution_count": 43,
          "metadata": {},
          "output_type": "execute_result"
        }
      ],
      "source": [
        "df['Drop_timestamp'].unique()"
      ]
    },
    {
      "cell_type": "markdown",
      "metadata": {
        "id": "dauF4eBmngu3"
      },
      "source": [
        "## 3. ***Data Wrangling***"
      ]
    },
    {
      "cell_type": "markdown",
      "metadata": {
        "id": "bKJF3rekwFvQ"
      },
      "source": [
        "### Data Wrangling Code"
      ]
    },
    {
      "cell_type": "code",
      "execution_count": 51,
      "metadata": {
        "id": "wk-9a2fpoLcV"
      },
      "outputs": [
        {
          "data": {
            "text/plain": [
              "Request_id              0\n",
              "Pickup_point            0\n",
              "Driver_id            2650\n",
              "Status                  0\n",
              "Request_timestamp       0\n",
              "Drop_timestamp       3914\n",
              "dtype: int64"
            ]
          },
          "execution_count": 51,
          "metadata": {},
          "output_type": "execute_result"
        }
      ],
      "source": [
        "# Write your code to make your dataset analysis ready.\n",
        "# Checking and handling the missing values\n",
        "df.isnull().sum()"
      ]
    },
    {
      "cell_type": "code",
      "execution_count": null,
      "metadata": {},
      "outputs": [
        {
          "data": {
            "text/html": [
              "<div>\n",
              "<style scoped>\n",
              "    .dataframe tbody tr th:only-of-type {\n",
              "        vertical-align: middle;\n",
              "    }\n",
              "\n",
              "    .dataframe tbody tr th {\n",
              "        vertical-align: top;\n",
              "    }\n",
              "\n",
              "    .dataframe thead th {\n",
              "        text-align: right;\n",
              "    }\n",
              "</style>\n",
              "<table border=\"1\" class=\"dataframe\">\n",
              "  <thead>\n",
              "    <tr style=\"text-align: right;\">\n",
              "      <th></th>\n",
              "      <th>Request_id</th>\n",
              "      <th>Pickup_point</th>\n",
              "      <th>Driver_id</th>\n",
              "      <th>Status</th>\n",
              "      <th>Request_timestamp</th>\n",
              "      <th>Drop_timestamp</th>\n",
              "    </tr>\n",
              "  </thead>\n",
              "  <tbody>\n",
              "    <tr>\n",
              "      <th>0</th>\n",
              "      <td>619</td>\n",
              "      <td>Airport</td>\n",
              "      <td>1.0</td>\n",
              "      <td>Trip Completed</td>\n",
              "      <td>11/07/2016 11:51</td>\n",
              "      <td>11/07/2016 13:00</td>\n",
              "    </tr>\n",
              "    <tr>\n",
              "      <th>1</th>\n",
              "      <td>867</td>\n",
              "      <td>Airport</td>\n",
              "      <td>1.0</td>\n",
              "      <td>Trip Completed</td>\n",
              "      <td>11/07/2016 17:57</td>\n",
              "      <td>11/07/2016 18:47</td>\n",
              "    </tr>\n",
              "    <tr>\n",
              "      <th>2</th>\n",
              "      <td>1807</td>\n",
              "      <td>City</td>\n",
              "      <td>1.0</td>\n",
              "      <td>Trip Completed</td>\n",
              "      <td>12/07/2016 09:17</td>\n",
              "      <td>12/07/2016 09:58</td>\n",
              "    </tr>\n",
              "    <tr>\n",
              "      <th>3</th>\n",
              "      <td>2532</td>\n",
              "      <td>Airport</td>\n",
              "      <td>1.0</td>\n",
              "      <td>Trip Completed</td>\n",
              "      <td>12/07/2016 21:08</td>\n",
              "      <td>12/07/2016 22:03</td>\n",
              "    </tr>\n",
              "    <tr>\n",
              "      <th>4</th>\n",
              "      <td>3112</td>\n",
              "      <td>City</td>\n",
              "      <td>1.0</td>\n",
              "      <td>Trip Completed</td>\n",
              "      <td>13/07/2016 08:33</td>\n",
              "      <td>13/07/2016 09:25</td>\n",
              "    </tr>\n",
              "    <tr>\n",
              "      <th>...</th>\n",
              "      <td>...</td>\n",
              "      <td>...</td>\n",
              "      <td>...</td>\n",
              "      <td>...</td>\n",
              "      <td>...</td>\n",
              "      <td>...</td>\n",
              "    </tr>\n",
              "    <tr>\n",
              "      <th>2826</th>\n",
              "      <td>1315</td>\n",
              "      <td>Airport</td>\n",
              "      <td>300.0</td>\n",
              "      <td>Trip Completed</td>\n",
              "      <td>11/07/2016 22:54</td>\n",
              "      <td>11/07/2016 23:35</td>\n",
              "    </tr>\n",
              "    <tr>\n",
              "      <th>2827</th>\n",
              "      <td>2924</td>\n",
              "      <td>City</td>\n",
              "      <td>300.0</td>\n",
              "      <td>Trip Completed</td>\n",
              "      <td>13/07/2016 06:31</td>\n",
              "      <td>13/07/2016 07:20</td>\n",
              "    </tr>\n",
              "    <tr>\n",
              "      <th>2828</th>\n",
              "      <td>3324</td>\n",
              "      <td>Airport</td>\n",
              "      <td>300.0</td>\n",
              "      <td>Trip Completed</td>\n",
              "      <td>13/07/2016 12:33</td>\n",
              "      <td>13/07/2016 13:16</td>\n",
              "    </tr>\n",
              "    <tr>\n",
              "      <th>2829</th>\n",
              "      <td>3935</td>\n",
              "      <td>Airport</td>\n",
              "      <td>300.0</td>\n",
              "      <td>Trip Completed</td>\n",
              "      <td>13/07/2016 22:26</td>\n",
              "      <td>13/07/2016 23:43</td>\n",
              "    </tr>\n",
              "    <tr>\n",
              "      <th>2830</th>\n",
              "      <td>5844</td>\n",
              "      <td>Airport</td>\n",
              "      <td>300.0</td>\n",
              "      <td>Trip Completed</td>\n",
              "      <td>15/07/2016 09:07</td>\n",
              "      <td>15/07/2016 09:56</td>\n",
              "    </tr>\n",
              "  </tbody>\n",
              "</table>\n",
              "<p>2831 rows × 6 columns</p>\n",
              "</div>"
            ],
            "text/plain": [
              "      Request_id Pickup_point  Driver_id          Status Request_timestamp  \\\n",
              "0            619      Airport        1.0  Trip Completed  11/07/2016 11:51   \n",
              "1            867      Airport        1.0  Trip Completed  11/07/2016 17:57   \n",
              "2           1807         City        1.0  Trip Completed  12/07/2016 09:17   \n",
              "3           2532      Airport        1.0  Trip Completed  12/07/2016 21:08   \n",
              "4           3112         City        1.0  Trip Completed  13/07/2016 08:33   \n",
              "...          ...          ...        ...             ...               ...   \n",
              "2826        1315      Airport      300.0  Trip Completed  11/07/2016 22:54   \n",
              "2827        2924         City      300.0  Trip Completed  13/07/2016 06:31   \n",
              "2828        3324      Airport      300.0  Trip Completed  13/07/2016 12:33   \n",
              "2829        3935      Airport      300.0  Trip Completed  13/07/2016 22:26   \n",
              "2830        5844      Airport      300.0  Trip Completed  15/07/2016 09:07   \n",
              "\n",
              "        Drop_timestamp  \n",
              "0     11/07/2016 13:00  \n",
              "1     11/07/2016 18:47  \n",
              "2     12/07/2016 09:58  \n",
              "3     12/07/2016 22:03  \n",
              "4     13/07/2016 09:25  \n",
              "...                ...  \n",
              "2826  11/07/2016 23:35  \n",
              "2827  13/07/2016 07:20  \n",
              "2828  13/07/2016 13:16  \n",
              "2829  13/07/2016 23:43  \n",
              "2830  15/07/2016 09:56  \n",
              "\n",
              "[2831 rows x 6 columns]"
            ]
          },
          "execution_count": 52,
          "metadata": {},
          "output_type": "execute_result"
        }
      ],
      "source": [
        "# Write your code to make your dataset analysis ready.\n",
        "# Checking and handling the missing values\n",
        "df.dropna()\n"
      ]
    },
    {
      "cell_type": "code",
      "execution_count": 68,
      "metadata": {},
      "outputs": [
        {
          "data": {
            "text/html": [
              "<div>\n",
              "<style scoped>\n",
              "    .dataframe tbody tr th:only-of-type {\n",
              "        vertical-align: middle;\n",
              "    }\n",
              "\n",
              "    .dataframe tbody tr th {\n",
              "        vertical-align: top;\n",
              "    }\n",
              "\n",
              "    .dataframe thead th {\n",
              "        text-align: right;\n",
              "    }\n",
              "</style>\n",
              "<table border=\"1\" class=\"dataframe\">\n",
              "  <thead>\n",
              "    <tr style=\"text-align: right;\">\n",
              "      <th></th>\n",
              "      <th>Request_id</th>\n",
              "      <th>Pickup_point</th>\n",
              "      <th>Driver_id</th>\n",
              "      <th>Status</th>\n",
              "      <th>Request_timestamp</th>\n",
              "      <th>Drop_timestamp</th>\n",
              "    </tr>\n",
              "  </thead>\n",
              "  <tbody>\n",
              "    <tr>\n",
              "      <th>0</th>\n",
              "      <td>619</td>\n",
              "      <td>Airport</td>\n",
              "      <td>1.0</td>\n",
              "      <td>Trip Completed</td>\n",
              "      <td>11/07/2016 11:51</td>\n",
              "      <td>11/07/2016 13:00</td>\n",
              "    </tr>\n",
              "    <tr>\n",
              "      <th>1</th>\n",
              "      <td>867</td>\n",
              "      <td>Airport</td>\n",
              "      <td>1.0</td>\n",
              "      <td>Trip Completed</td>\n",
              "      <td>11/07/2016 17:57</td>\n",
              "      <td>11/07/2016 18:47</td>\n",
              "    </tr>\n",
              "    <tr>\n",
              "      <th>2</th>\n",
              "      <td>1807</td>\n",
              "      <td>City</td>\n",
              "      <td>1.0</td>\n",
              "      <td>Trip Completed</td>\n",
              "      <td>12/07/2016 09:17</td>\n",
              "      <td>12/07/2016 09:58</td>\n",
              "    </tr>\n",
              "    <tr>\n",
              "      <th>3</th>\n",
              "      <td>2532</td>\n",
              "      <td>Airport</td>\n",
              "      <td>1.0</td>\n",
              "      <td>Trip Completed</td>\n",
              "      <td>12/07/2016 21:08</td>\n",
              "      <td>12/07/2016 22:03</td>\n",
              "    </tr>\n",
              "    <tr>\n",
              "      <th>4</th>\n",
              "      <td>3112</td>\n",
              "      <td>City</td>\n",
              "      <td>1.0</td>\n",
              "      <td>Trip Completed</td>\n",
              "      <td>13/07/2016 08:33</td>\n",
              "      <td>13/07/2016 09:25</td>\n",
              "    </tr>\n",
              "    <tr>\n",
              "      <th>...</th>\n",
              "      <td>...</td>\n",
              "      <td>...</td>\n",
              "      <td>...</td>\n",
              "      <td>...</td>\n",
              "      <td>...</td>\n",
              "      <td>...</td>\n",
              "    </tr>\n",
              "    <tr>\n",
              "      <th>6740</th>\n",
              "      <td>6745</td>\n",
              "      <td>City</td>\n",
              "      <td>unknown</td>\n",
              "      <td>No Cars Available</td>\n",
              "      <td>15/07/2016 23:49</td>\n",
              "      <td>unknown</td>\n",
              "    </tr>\n",
              "    <tr>\n",
              "      <th>6741</th>\n",
              "      <td>6752</td>\n",
              "      <td>Airport</td>\n",
              "      <td>unknown</td>\n",
              "      <td>No Cars Available</td>\n",
              "      <td>15/07/2016 23:50</td>\n",
              "      <td>unknown</td>\n",
              "    </tr>\n",
              "    <tr>\n",
              "      <th>6742</th>\n",
              "      <td>6751</td>\n",
              "      <td>City</td>\n",
              "      <td>unknown</td>\n",
              "      <td>No Cars Available</td>\n",
              "      <td>15/07/2016 23:52</td>\n",
              "      <td>unknown</td>\n",
              "    </tr>\n",
              "    <tr>\n",
              "      <th>6743</th>\n",
              "      <td>6754</td>\n",
              "      <td>City</td>\n",
              "      <td>unknown</td>\n",
              "      <td>No Cars Available</td>\n",
              "      <td>15/07/2016 23:54</td>\n",
              "      <td>unknown</td>\n",
              "    </tr>\n",
              "    <tr>\n",
              "      <th>6744</th>\n",
              "      <td>6753</td>\n",
              "      <td>Airport</td>\n",
              "      <td>unknown</td>\n",
              "      <td>No Cars Available</td>\n",
              "      <td>15/07/2016 23:55</td>\n",
              "      <td>unknown</td>\n",
              "    </tr>\n",
              "  </tbody>\n",
              "</table>\n",
              "<p>6745 rows × 6 columns</p>\n",
              "</div>"
            ],
            "text/plain": [
              "      Request_id Pickup_point Driver_id             Status Request_timestamp  \\\n",
              "0            619      Airport       1.0     Trip Completed  11/07/2016 11:51   \n",
              "1            867      Airport       1.0     Trip Completed  11/07/2016 17:57   \n",
              "2           1807         City       1.0     Trip Completed  12/07/2016 09:17   \n",
              "3           2532      Airport       1.0     Trip Completed  12/07/2016 21:08   \n",
              "4           3112         City       1.0     Trip Completed  13/07/2016 08:33   \n",
              "...          ...          ...       ...                ...               ...   \n",
              "6740        6745         City   unknown  No Cars Available  15/07/2016 23:49   \n",
              "6741        6752      Airport   unknown  No Cars Available  15/07/2016 23:50   \n",
              "6742        6751         City   unknown  No Cars Available  15/07/2016 23:52   \n",
              "6743        6754         City   unknown  No Cars Available  15/07/2016 23:54   \n",
              "6744        6753      Airport   unknown  No Cars Available  15/07/2016 23:55   \n",
              "\n",
              "        Drop_timestamp  \n",
              "0     11/07/2016 13:00  \n",
              "1     11/07/2016 18:47  \n",
              "2     12/07/2016 09:58  \n",
              "3     12/07/2016 22:03  \n",
              "4     13/07/2016 09:25  \n",
              "...                ...  \n",
              "6740           unknown  \n",
              "6741           unknown  \n",
              "6742           unknown  \n",
              "6743           unknown  \n",
              "6744           unknown  \n",
              "\n",
              "[6745 rows x 6 columns]"
            ]
          },
          "execution_count": 68,
          "metadata": {},
          "output_type": "execute_result"
        }
      ],
      "source": [
        "# Write your code to make your dataset analysis ready.\n",
        "# Checking and handling the missing values\n",
        "df.fillna('unknown')\n"
      ]
    },
    {
      "cell_type": "code",
      "execution_count": 168,
      "metadata": {},
      "outputs": [],
      "source": [
        "# Changing the data types\n",
        "df['Request_timestamp']=pd.to_datetime(df['Request_timestamp'],errors = 'coerce')"
      ]
    },
    {
      "cell_type": "code",
      "execution_count": 167,
      "metadata": {},
      "outputs": [],
      "source": [
        "# splitting Columns\n",
        "df['Request_hour'] = df['Request_timestamp'].dt.hour\n",
        "df['Request_date'] = df['Request_timestamp'].dt.date\n",
        "\n",
        "df['Drop_hour'] = df['Drop_timestamp'].dt.hour    \n",
        "df['Drop_date'] = df['Drop_timestamp'].dt.date"
      ]
    },
    {
      "cell_type": "code",
      "execution_count": 75,
      "metadata": {},
      "outputs": [],
      "source": [
        "# removing duplicates\n",
        "df.drop_duplicates(inplace=True)"
      ]
    },
    {
      "cell_type": "markdown",
      "metadata": {
        "id": "MSa1f5Uengrz"
      },
      "source": [
        "### What all manipulations have you done and insights you found?"
      ]
    },
    {
      "cell_type": "markdown",
      "metadata": {
        "id": "LbyXE7I1olp8"
      },
      "source": [
        "Answer Here. To prepare the dataset for analysis, the following data manipulation steps were performed:\n",
        "\n",
        "Imported required Python libraries (such as pandas, numpy, matplotlib, seaborn).\n",
        "\n",
        "Loaded the dataset from a CSV file using pandas.read_csv().\n",
        "\n",
        "Checked the shape of the dataset to understand the number of rows and columns.\n",
        "\n",
        "Removed duplicate rows using drop_duplicates() to avoid repeated entries.\n",
        "\n",
        "Handled missing values:\n",
        "\n",
        "Identified null values using isnull().sum().\n",
        "\n",
        "Treated missing data where necessary (e.g., filled or ignored based on context).\n",
        "\n",
        "Explored the dataset structure to understand what each column represents and the types of values it holds.\n",
        "\n",
        "Changed data types, especially:\n",
        "\n",
        "Converted request_timestamp to proper datetime format using pd.to_datetime().\n",
        "\n",
        "Verified final cleaned dataset, ensuring:\n",
        "\n",
        "No missing or incorrect values remain.\n",
        "\n",
        "The data is consistent and ready for visualization.\n",
        "\n",
        "Insights Gained from Clean Data:\n",
        "The dataset is now free of null or duplicate values.\n",
        "\n",
        "All columns have correct data types (e.g., timestamps are in datetime format).\n",
        "\n",
        "The dataset is in a good condition to perform visual analysis and generate insights using Python charts."
      ]
    },
    {
      "cell_type": "markdown",
      "metadata": {
        "id": "GF8Ens_Soomf"
      },
      "source": [
        "## ***4. Data Vizualization, Storytelling & Experimenting with charts : Understand the relationships between variables***"
      ]
    },
    {
      "cell_type": "markdown",
      "metadata": {
        "id": "0wOQAZs5pc--"
      },
      "source": [
        "#### Chart - 1"
      ]
    },
    {
      "cell_type": "code",
      "execution_count": 85,
      "metadata": {
        "id": "7v_ESjsspbW7"
      },
      "outputs": [
        {
          "data": {
            "image/png": "[encoded data removed]",
            "text/plain": [
              "<Figure size 800x500 with 1 Axes>"
            ]
          },
          "metadata": {},
          "output_type": "display_data"
        }
      ],
      "source": [
        "# Chart - 1 visualization code\n",
        "# Status vs Pick up point\n",
        "\n",
        "import seaborn as sns\n",
        "import matplotlib.pyplot as plt\n",
        "plt.figure(figsize=(8,5))\n",
        "sns.countplot(data= df,x = 'Pickup_point',hue= 'Status')\n",
        "plt.title(\"Trip status by the pickup location\")\n",
        "plt.xlabel('pickup location')\n",
        "plt.ylabel('number of request')\n",
        "plt.legend(title = 'trip status')\n",
        "plt.show()"
      ]
    },
    {
      "cell_type": "markdown",
      "metadata": {
        "id": "K5QZ13OEpz2H"
      },
      "source": [
        "##### 1. Why did you pick the specific chart?"
      ]
    },
    {
      "cell_type": "markdown",
      "metadata": {
        "id": "XESiWehPqBRc"
      },
      "source": [
        "Answer Here:I want to know that how many numbers of request for the pickup location (Airport,City) by trip status(Trip completed, Cancelled, No Cars Available)."
      ]
    },
    {
      "cell_type": "markdown",
      "metadata": {
        "id": "lQ7QKXXCp7Bj"
      },
      "source": [
        "##### 2. What is/are the insight(s) found from the chart?"
      ]
    },
    {
      "cell_type": "markdown",
      "metadata": {
        "id": "C_j1G7yiqdRP"
      },
      "source": [
        "Answer Here:This chart shows how trips are going at two main pickup points: the Airport and the City. At the Airport, a lot of people are requesting rides, but many of them can’t get one because no cars are available — that’s the tall green bar. This means there’s a big gap between demand and supply at the Airport. On the other hand, in the City, more trips are getting completed, which is a good sign. But at the same time, more people are canceling rides too  maybe because of delays, traffic, or other issues.\n",
        "So, in simple terms:\n",
        "The Airport needs more drivers to meet the high demand.\n",
        "The City is handling trips better, but still has issues like ride cancellations."
      ]
    },
    {
      "cell_type": "markdown",
      "metadata": {
        "id": "448CDAPjqfQr"
      },
      "source": [
        "##### 3. Will the gained insights help creating a positive business impact?\n",
        "# Are there any insights that lead to negative growth? Justify with specific reason."
      ]
    },
    {
      "cell_type": "markdown",
      "metadata": {
        "id": "3cspy4FjqxJW"
      },
      "source": [
        "Answer Here:If you see that Airport has a lot of “No Cars Available” bars during certain hours, it tells you there’s high demand but low supply there."
      ]
    },
    {
      "cell_type": "markdown",
      "metadata": {
        "id": "KSlN3yHqYklG"
      },
      "source": [
        "#### Chart - 2"
      ]
    },
    {
      "cell_type": "code",
      "execution_count": 90,
      "metadata": {
        "id": "R4YgtaqtYklH"
      },
      "outputs": [
        {
          "data": {
            "image/png": "[encoded data removed]",
            "text/plain": [
              "<Figure size 1000x600 with 1 Axes>"
            ]
          },
          "metadata": {},
          "output_type": "display_data"
        }
      ],
      "source": [
        "# Chart - 2 visualization code\n",
        "# Trip requested by hour of day\n",
        "import seaborn as sns\n",
        "import matplotlib.pyplot as plt\n",
        "\n",
        "plt.figure(figsize=(10,6))\n",
        "sns.countplot(data=df, x ='Request_hour',hue='Status')\n",
        "plt.title('number of request by hour of day') \n",
        "plt.xlabel('hour of day')  \n",
        "plt.ylabel('number of requested') \n",
        "plt.legend(title = 'Status') \n",
        "plt.show()\n"
      ]
    },
    {
      "cell_type": "markdown",
      "metadata": {
        "id": "t6dVpIINYklI"
      },
      "source": [
        "##### 1. Why did you pick the specific chart?"
      ]
    },
    {
      "cell_type": "markdown",
      "metadata": {
        "id": "5aaW0BYyYklI"
      },
      "source": [
        "Answer Here.: I chose a bar chart for this visualization because it's one of the easiest ways to clearly show how many trip requests happen at each hour of the day.\n",
        "Each bar represents one hour (from 0 to 23), and the height of the bar shows how many users requested a trip during that hour. This makes it really easy to spot the peak hours — like when people are most active in booking rides (usually during morning office time or evening rush).\n",
        "This chart helps in understanding user behavior patterns throughout the day. For example, if we see a spike at 9 AM and 6 PM, it could be due to people going to work and coming back home.Also, it’s useful for the business side — companies can use this info to make sure more drivers are available during busy hours, which helps reduce waiting time for users and improves overall service."
      ]
    },
    {
      "cell_type": "markdown",
      "metadata": {
        "id": "ijmpgYnKYklI"
      },
      "source": [
        "##### 2. What is/are the insight(s) found from the chart?"
      ]
    },
    {
      "cell_type": "markdown",
      "metadata": {
        "id": "PSx9atu2YklI"
      },
      "source": [
        "Answer Here: When I looked at the chart showing trip requests across different hours of the day, I noticed some interesting patterns\n",
        "Most requests happen in the morning and evening\n",
        "A lot of people book rides around 7 AM to 9 AM and again from 5 PM to 8 PM. This is likely because they are going to work or coming back home typical office hours.\n",
        "Very few requests late at night.\n",
        "Between 12 AM and 5 AM, the number of trip requests is very low. This makes sense, as most people don’t travel much during these hours.\n",
        "We can clearly see daily routines.\n",
        "The chart helps us understand how people behave during the day when they’re most active and when the system is less busy.\n",
        "This can help companies improve servic.\n",
        "By knowing when most requests come in, ride-sharing companies can make sure more drivers are available during busy times. This way, fewer people have to wait or face cancellations.\n",
        "There may be a gap in supply during peak hours.\n",
        "If we notice that many rides get cancelled or say “No cars available” during these peak hours, it means demand is higher than the number of drivers. That’s something the company can work on.\n",
        "\n"
      ]
    },
    {
      "cell_type": "markdown",
      "metadata": {
        "id": "-JiQyfWJYklI"
      },
      "source": [
        "##### 3. Will the gained insights help creating a positive business impact?\n"
      ]
    },
    {
      "cell_type": "markdown",
      "metadata": {
        "id": "BcBbebzrYklV"
      },
      "source": [
        "Answer Here: From the chart, we can say that the company is doing really well when it comes to user demand. A lot of people are booking trips during the morning and evening hours, especially around 7 to 9 AM and 5 to 8 PM.\n",
        "\n",
        "This clearly shows that people rely on the service regularly — for going to work, coming back home, or daily travel needs. That means the company has built trust, and users are actively choosing it over other options.\n",
        "\n",
        "So overall, the chart gives a positive sign:\n",
        "\"The company is in demand, especially during busy hours — which is a good thing for business and future growth.\""
      ]
    },
    {
      "cell_type": "markdown",
      "metadata": {
        "id": "EM7whBJCYoAo"
      },
      "source": [
        "#### Chart - 3"
      ]
    },
    {
      "cell_type": "code",
      "execution_count": 97,
      "metadata": {
        "id": "t6GMdE67YoAp"
      },
      "outputs": [
        {
          "data": {
            "image/png": "[encoded data removed]",
            "text/plain": [
              "<Figure size 600x600 with 1 Axes>"
            ]
          },
          "metadata": {},
          "output_type": "display_data"
        }
      ],
      "source": [
        "# Chart - 3 visualization code#\n",
        "# Satus Distribution Pie Chart\n",
        "\n",
        "Status_counts = df['Status'].value_counts()\n",
        "plt.figure(figsize=(6,6))\n",
        "plt.pie(Status_counts,labels=Status_counts.index,autopct='%1.1f%%',startangle= 90)\n",
        "plt.title('Overall Trip Status Distribution')         \n",
        "plt.axis('equal')     \n",
        "plt.show()   "
      ]
    },
    {
      "cell_type": "markdown",
      "metadata": {
        "id": "fge-S5ZAYoAp"
      },
      "source": [
        "##### 1. Why did you pick the specific chart?"
      ]
    },
    {
      "cell_type": "markdown",
      "metadata": {
        "id": "5dBItgRVYoAp"
      },
      "source": [
        "Answer Here. I used a pie chart to show the trip status (like Trip Completed, Cancelled, and No Cars Available)\n",
        "It’s the best way to quickly understand how many rides were successful and how many failed.\n",
        "Each slice of the pie shows how much each status contributes to the total number of bookings.\n",
        "It gives a clear overall picture — for example, if most of the chart is one color, we know that status is happening the most.\n",
        "The pie chart is great when you want to show simple proportions in one column (like trip outcomes). It makes it easy to explain the situation to someone, even if they don’t know data analysis.\n",
        "\n"
      ]
    },
    {
      "cell_type": "markdown",
      "metadata": {
        "id": "85gYPyotYoAp"
      },
      "source": [
        "##### 2. What is/are the insight(s) found from the chart?"
      ]
    },
    {
      "cell_type": "markdown",
      "metadata": {
        "id": "4jstXR6OYoAp"
      },
      "source": [
        "Answer Here:Although most trips are successful, a large number of bookings are still being cancelled or left unserved due to no drivers being available. This indicates a missed opportunity for the company to improve its service and customer satisfaction."
      ]
    },
    {
      "cell_type": "markdown",
      "metadata": {
        "id": "RoGjAbkUYoAp"
      },
      "source": [
        "##### 3. Will the gained insights help creating a positive business impact?\n",
        "Are there any insights that lead to negative growth? Justify with specific reason."
      ]
    },
    {
      "cell_type": "markdown",
      "metadata": {
        "id": "zfJ8IqMcYoAp"
      },
      "source": [
        "Answer Here:These insights allow the business to identify where demand is being missed, improve driver availability, reduce cancellations, and ultimately enhance customer experience leading to higher revenue, efficiency, and customer loyalty."
      ]
    },
    {
      "cell_type": "markdown",
      "metadata": {
        "id": "4Of9eVA-YrdM"
      },
      "source": [
        "#### Chart - 4"
      ]
    },
    {
      "cell_type": "code",
      "execution_count": 102,
      "metadata": {
        "id": "irlUoxc8YrdO"
      },
      "outputs": [
        {
          "data": {
            "image/png": "[encoded data removed]",
            "text/plain": [
              "<Figure size 1200x600 with 1 Axes>"
            ]
          },
          "metadata": {},
          "output_type": "display_data"
        }
      ],
      "source": [
        "# Chart - 4 visualization code\n",
        "# Daily Trends of Booking\n",
        "\n",
        "df['request_day']=df['Request_timestamp'].dt.date\n",
        "daily_trips = df.groupby('request_day')['Request_id'].count()     \n",
        "plt.figure(figsize=(12,6))\n",
        "daily_trips.plot(kind='line',marker='o')     \n",
        "plt.title('Total request per day')          \n",
        "plt.xlabel('Date')    \n",
        "plt.ylabel('Number of request')    \n",
        "plt.grid('True')    \n",
        "plt.show() \n",
        "              "
      ]
    },
    {
      "cell_type": "markdown",
      "metadata": {
        "id": "iky9q4vBYrdO"
      },
      "source": [
        "##### 1. Why did you pick the specific chart?"
      ]
    },
    {
      "cell_type": "markdown",
      "metadata": {
        "id": "aJRCwT6DYrdO"
      },
      "source": [
        "Answer Here.: I chose a line chart because I wanted to show how the number of cab requests changed day by day. A line chart makes it easy to see patterns over time — like when the requests increased, dropped, or stayed the same.The line chart helped me quickly spot which days had more bookings and which were slow  that kind of insight is really useful for planning and improving business decisions."
      ]
    },
    {
      "cell_type": "markdown",
      "metadata": {
        "id": "F6T5p64dYrdO"
      },
      "source": [
        "##### 2. What is/are the insight(s) found from the chart?"
      ]
    },
    {
      "cell_type": "markdown",
      "metadata": {
        "id": "Xx8WAJvtYrdO"
      },
      "source": [
        "Answer Here: The line chart helped me clearly understand how cab bookings changed day by day. I noticed that some days had a lot of booking requests, while other days had much fewer. This shows a demand pattern across the days.\n",
        "\n",
        "I also found that\n",
        "There were a few days where requests spiked, meaning those were very busy days for the company.\n",
        "On some days, there was a sudden drop in requests, which could be because of weekends, holidays, or some service issues.\n",
        "A pattern started to appear where weekdays had higher demand, and weekends were usually slower.\n",
        "\n",
        "This information is very helpful for the business because it shows when more drivers are needed and helps them prepare better for high-demand days. It can also help in improving service during low-demand periods."
      ]
    },
    {
      "cell_type": "markdown",
      "metadata": {
        "id": "y-Ehk30pYrdP"
      },
      "source": [
        "##### 3. Will the gained insights help creating a positive business impact?\n",
        "Are there any insights that lead to negative growth? Justify with specific reason."
      ]
    },
    {
      "cell_type": "markdown",
      "metadata": {
        "id": "jLNxxz7MYrdP"
      },
      "source": [
        "Answer Here: The daily trends observed from the line chart help the company understand user demand more clearly. By using these insights, the business can improve driver availability, reduce cancellations, serve more customers, and ultimately increase revenue and customer loyalty."
      ]
    },
    {
      "cell_type": "markdown",
      "metadata": {
        "id": "bamQiAODYuh1"
      },
      "source": [
        "#### Chart - 5"
      ]
    },
    {
      "cell_type": "code",
      "execution_count": null,
      "metadata": {
        "id": "TIJwrbroYuh3"
      },
      "outputs": [
        {
          "data": {
            "image/png": "[encoded data removed]",
            "text/plain": [
              "<Figure size 800x600 with 2 Axes>"
            ]
          },
          "metadata": {},
          "output_type": "display_data"
        }
      ],
      "source": [
        "# Chart - 5 visualization code\n",
        "# Heatmap of Correlation Between Numeric Columns\n",
        "import seaborn as sns\n",
        "\n",
        "plt.figure(figsize=(8, 6))\n",
        "sns.heatmap(df.corr(numeric_only=True), annot=True, cmap='coolwarm')\n",
        "plt.title(\"Correlation Heatmap\")\n",
        "plt.show()\n"
      ]
    },
    {
      "cell_type": "markdown",
      "metadata": {
        "id": "QHF8YVU7Yuh3"
      },
      "source": [
        "##### 1. Why did you pick the specific chart?"
      ]
    },
    {
      "cell_type": "markdown",
      "metadata": {
        "id": "dcxuIMRPYuh3"
      },
      "source": [
        "Answer Here:I used correlation heatmap to understand how the numeric columns in the dataset relate to each other. This helped us spot strong relationships (like trip duration and distance), and made it easier to decide which variables are important for deeper analysis or modeling."
      ]
    },
    {
      "cell_type": "markdown",
      "metadata": {
        "id": "GwzvFGzlYuh3"
      },
      "source": [
        "##### 2. What is/are the insight(s) found from the chart?"
      ]
    },
    {
      "cell_type": "markdown",
      "metadata": {
        "id": "uyqkiB8YYuh3"
      },
      "source": [
        "Answer Here:The correlation heatmap gave a clear visual of how different numeric variables relate to each other. It confirmed expected patterns (like longer trips cover more distance), showed which variables work independently, and helped me identify which ones could be more important for further analysis or business decisions."
      ]
    },
    {
      "cell_type": "markdown",
      "metadata": {
        "id": "qYpmQ266Yuh3"
      },
      "source": [
        "##### 3. Will the gained insights help creating a positive business impact?\n",
        "Are there any insights that lead to negative growth? Justify with specific reason."
      ]
    },
    {
      "cell_type": "markdown",
      "metadata": {
        "id": "_WtzZ_hCYuh4"
      },
      "source": [
        "Answer Here:The correlation heatmap helped identify which variables are closely related and which are not. These insights can be used to fine-tune pricing strategies, improve driver deployment, reduce trip failures, and focus on the most useful data — ultimately supporting smarter decisions and a better business outcome."
      ]
    },
    {
      "cell_type": "markdown",
      "metadata": {
        "id": "OH-pJp9IphqM"
      },
      "source": [
        "#### Chart - 6"
      ]
    },
    {
      "cell_type": "markdown",
      "metadata": {
        "id": "bbFf2-_FphqN"
      },
      "source": [
        "##### 1. Why did you pick the specific chart?"
      ]
    },
    {
      "cell_type": "markdown",
      "metadata": {
        "id": "loh7H2nzphqN"
      },
      "source": [
        "Answer Here."
      ]
    },
    {
      "cell_type": "markdown",
      "metadata": {
        "id": "_ouA3fa0phqN"
      },
      "source": [
        "##### 2. What is/are the insight(s) found from the chart?"
      ]
    },
    {
      "cell_type": "markdown",
      "metadata": {
        "id": "VECbqPI7phqN"
      },
      "source": [
        "Answer Here"
      ]
    },
    {
      "cell_type": "markdown",
      "metadata": {
        "id": "Seke61FWphqN"
      },
      "source": [
        "##### 3. Will the gained insights help creating a positive business impact?\n",
        "Are there any insights that lead to negative growth? Justify with specific reason."
      ]
    },
    {
      "cell_type": "markdown",
      "metadata": {
        "id": "DW4_bGpfphqN"
      },
      "source": [
        "Answer Here"
      ]
    },
    {
      "cell_type": "markdown",
      "metadata": {
        "id": "PIIx-8_IphqN"
      },
      "source": [
        "#### Chart - 7"
      ]
    },
    {
      "cell_type": "markdown",
      "metadata": {
        "id": "t27r6nlMphqO"
      },
      "source": [
        "##### 1. Why did you pick the specific chart?"
      ]
    },
    {
      "cell_type": "markdown",
      "metadata": {
        "id": "iv6ro40sphqO"
      },
      "source": [
        "Answer Here."
      ]
    },
    {
      "cell_type": "markdown",
      "metadata": {
        "id": "r2jJGEOYphqO"
      },
      "source": [
        "##### 2. What is/are the insight(s) found from the chart?"
      ]
    },
    {
      "cell_type": "markdown",
      "metadata": {
        "id": "Po6ZPi4hphqO"
      },
      "source": [
        "Answer Here"
      ]
    },
    {
      "cell_type": "markdown",
      "metadata": {
        "id": "b0JNsNcRphqO"
      },
      "source": [
        "##### 3. Will the gained insights help creating a positive business impact?\n",
        "Are there any insights that lead to negative growth? Justify with specific reason."
      ]
    },
    {
      "cell_type": "markdown",
      "metadata": {
        "id": "xvSq8iUTphqO"
      },
      "source": [
        "Answer Here"
      ]
    },
    {
      "cell_type": "markdown",
      "metadata": {
        "id": "BZR9WyysphqO"
      },
      "source": [
        "#### Chart - 8"
      ]
    },
    {
      "cell_type": "code",
      "execution_count": 60,
      "metadata": {
        "id": "TdPTWpAVphqO"
      },
      "outputs": [],
      "source": [
        "# Chart - 8 visualization code"
      ]
    },
    {
      "cell_type": "markdown",
      "metadata": {
        "id": "jj7wYXLtphqO"
      },
      "source": [
        "##### 1. Why did you pick the specific chart?"
      ]
    },
    {
      "cell_type": "markdown",
      "metadata": {
        "id": "Ob8u6rCTphqO"
      },
      "source": [
        "Answer Here."
      ]
    },
    {
      "cell_type": "markdown",
      "metadata": {
        "id": "eZrbJ2SmphqO"
      },
      "source": [
        "##### 2. What is/are the insight(s) found from the chart?"
      ]
    },
    {
      "cell_type": "markdown",
      "metadata": {
        "id": "mZtgC_hjphqO"
      },
      "source": [
        "Answer Here"
      ]
    },
    {
      "cell_type": "markdown",
      "metadata": {
        "id": "rFu4xreNphqO"
      },
      "source": [
        "##### 3. Will the gained insights help creating a positive business impact?\n",
        "Are there any insights that lead to negative growth? Justify with specific reason."
      ]
    },
    {
      "cell_type": "markdown",
      "metadata": {
        "id": "ey_0qi68phqO"
      },
      "source": [
        "Answer Here"
      ]
    },
    {
      "cell_type": "markdown",
      "metadata": {
        "id": "YJ55k-q6phqO"
      },
      "source": [
        "#### Chart - 9"
      ]
    },
    {
      "cell_type": "code",
      "execution_count": 61,
      "metadata": {
        "id": "B2aS4O1ophqO"
      },
      "outputs": [],
      "source": [
        "# Chart - 9 visualization code"
      ]
    },
    {
      "cell_type": "markdown",
      "metadata": {
        "id": "gCFgpxoyphqP"
      },
      "source": [
        "##### 1. Why did you pick the specific chart?"
      ]
    },
    {
      "cell_type": "markdown",
      "metadata": {
        "id": "TVxDimi2phqP"
      },
      "source": [
        "Answer Here."
      ]
    },
    {
      "cell_type": "markdown",
      "metadata": {
        "id": "OVtJsKN_phqQ"
      },
      "source": [
        "##### 2. What is/are the insight(s) found from the chart?"
      ]
    },
    {
      "cell_type": "markdown",
      "metadata": {
        "id": "ngGi97qjphqQ"
      },
      "source": [
        "Answer Here"
      ]
    },
    {
      "cell_type": "markdown",
      "metadata": {
        "id": "lssrdh5qphqQ"
      },
      "source": [
        "##### 3. Will the gained insights help creating a positive business impact?\n",
        "Are there any insights that lead to negative growth? Justify with specific reason."
      ]
    },
    {
      "cell_type": "markdown",
      "metadata": {
        "id": "tBpY5ekJphqQ"
      },
      "source": [
        "Answer Here"
      ]
    },
    {
      "cell_type": "markdown",
      "metadata": {
        "id": "U2RJ9gkRphqQ"
      },
      "source": [
        "#### Chart - 10"
      ]
    },
    {
      "cell_type": "code",
      "execution_count": 62,
      "metadata": {
        "id": "GM7a4YP4phqQ"
      },
      "outputs": [],
      "source": [
        "# Chart - 10 visualization code"
      ]
    },
    {
      "cell_type": "markdown",
      "metadata": {
        "id": "1M8mcRywphqQ"
      },
      "source": [
        "##### 1. Why did you pick the specific chart?"
      ]
    },
    {
      "cell_type": "markdown",
      "metadata": {
        "id": "8agQvks0phqQ"
      },
      "source": [
        "Answer Here."
      ]
    },
    {
      "cell_type": "markdown",
      "metadata": {
        "id": "tgIPom80phqQ"
      },
      "source": [
        "##### 2. What is/are the insight(s) found from the chart?"
      ]
    },
    {
      "cell_type": "markdown",
      "metadata": {
        "id": "Qp13pnNzphqQ"
      },
      "source": [
        "Answer Here"
      ]
    },
    {
      "cell_type": "markdown",
      "metadata": {
        "id": "JMzcOPDDphqR"
      },
      "source": [
        "##### 3. Will the gained insights help creating a positive business impact?\n",
        "Are there any insights that lead to negative growth? Justify with specific reason."
      ]
    },
    {
      "cell_type": "markdown",
      "metadata": {
        "id": "R4Ka1PC2phqR"
      },
      "source": [
        "Answer Here"
      ]
    },
    {
      "cell_type": "markdown",
      "metadata": {
        "id": "x-EpHcCOp1ci"
      },
      "source": [
        "#### Chart - 11"
      ]
    },
    {
      "cell_type": "code",
      "execution_count": 63,
      "metadata": {
        "id": "mAQTIvtqp1cj"
      },
      "outputs": [],
      "source": [
        "# Chart - 11 visualization code"
      ]
    },
    {
      "cell_type": "markdown",
      "metadata": {
        "id": "X_VqEhTip1ck"
      },
      "source": [
        "##### 1. Why did you pick the specific chart?"
      ]
    },
    {
      "cell_type": "markdown",
      "metadata": {
        "id": "-vsMzt_np1ck"
      },
      "source": [
        "Answer Here."
      ]
    },
    {
      "cell_type": "markdown",
      "metadata": {
        "id": "8zGJKyg5p1ck"
      },
      "source": [
        "##### 2. What is/are the insight(s) found from the chart?"
      ]
    },
    {
      "cell_type": "markdown",
      "metadata": {
        "id": "ZYdMsrqVp1ck"
      },
      "source": [
        "Answer Here"
      ]
    },
    {
      "cell_type": "markdown",
      "metadata": {
        "id": "PVzmfK_Ep1ck"
      },
      "source": [
        "##### 3. Will the gained insights help creating a positive business impact?\n",
        "Are there any insights that lead to negative growth? Justify with specific reason."
      ]
    },
    {
      "cell_type": "markdown",
      "metadata": {
        "id": "druuKYZpp1ck"
      },
      "source": [
        "Answer Here"
      ]
    },
    {
      "cell_type": "markdown",
      "metadata": {
        "id": "n3dbpmDWp1ck"
      },
      "source": [
        "#### Chart - 12"
      ]
    },
    {
      "cell_type": "code",
      "execution_count": 64,
      "metadata": {
        "id": "bwevp1tKp1ck"
      },
      "outputs": [],
      "source": [
        "# Chart - 12 visualization code"
      ]
    },
    {
      "cell_type": "markdown",
      "metadata": {
        "id": "ylSl6qgtp1ck"
      },
      "source": [
        "##### 1. Why did you pick the specific chart?"
      ]
    },
    {
      "cell_type": "markdown",
      "metadata": {
        "id": "m2xqNkiQp1ck"
      },
      "source": [
        "Answer Here."
      ]
    },
    {
      "cell_type": "markdown",
      "metadata": {
        "id": "ZWILFDl5p1ck"
      },
      "source": [
        "##### 2. What is/are the insight(s) found from the chart?"
      ]
    },
    {
      "cell_type": "markdown",
      "metadata": {
        "id": "x-lUsV2mp1ck"
      },
      "source": [
        "Answer Here"
      ]
    },
    {
      "cell_type": "markdown",
      "metadata": {
        "id": "M7G43BXep1ck"
      },
      "source": [
        "##### 3. Will the gained insights help creating a positive business impact?\n",
        "Are there any insights that lead to negative growth? Justify with specific reason."
      ]
    },
    {
      "cell_type": "markdown",
      "metadata": {
        "id": "5wwDJXsLp1cl"
      },
      "source": [
        "Answer Here"
      ]
    },
    {
      "cell_type": "markdown",
      "metadata": {
        "id": "Ag9LCva-p1cl"
      },
      "source": [
        "#### Chart - 13"
      ]
    },
    {
      "cell_type": "code",
      "execution_count": 65,
      "metadata": {
        "id": "EUfxeq9-p1cl"
      },
      "outputs": [],
      "source": [
        "# Chart - 13 visualization code"
      ]
    },
    {
      "cell_type": "markdown",
      "metadata": {
        "id": "E6MkPsBcp1cl"
      },
      "source": [
        "##### 1. Why did you pick the specific chart?"
      ]
    },
    {
      "cell_type": "markdown",
      "metadata": {
        "id": "V22bRsFWp1cl"
      },
      "source": [
        "Answer Here."
      ]
    },
    {
      "cell_type": "markdown",
      "metadata": {
        "id": "2cELzS2fp1cl"
      },
      "source": [
        "##### 2. What is/are the insight(s) found from the chart?"
      ]
    },
    {
      "cell_type": "markdown",
      "metadata": {
        "id": "ozQPc2_Ip1cl"
      },
      "source": [
        "Answer Here"
      ]
    },
    {
      "cell_type": "markdown",
      "metadata": {
        "id": "3MPXvC8up1cl"
      },
      "source": [
        "##### 3. Will the gained insights help creating a positive business impact?\n",
        "Are there any insights that lead to negative growth? Justify with specific reason."
      ]
    },
    {
      "cell_type": "markdown",
      "metadata": {
        "id": "GL8l1tdLp1cl"
      },
      "source": [
        "Answer Here"
      ]
    },
    {
      "cell_type": "markdown",
      "metadata": {
        "id": "NC_X3p0fY2L0"
      },
      "source": [
        "#### Chart - 14 - Correlation Heatmap"
      ]
    },
    {
      "cell_type": "code",
      "execution_count": 66,
      "metadata": {
        "id": "xyC9zolEZNRQ"
      },
      "outputs": [],
      "source": [
        "# Correlation Heatmap visualization code"
      ]
    },
    {
      "cell_type": "markdown",
      "metadata": {
        "id": "UV0SzAkaZNRQ"
      },
      "source": [
        "##### 1. Why did you pick the specific chart?"
      ]
    },
    {
      "cell_type": "markdown",
      "metadata": {
        "id": "DVPuT8LYZNRQ"
      },
      "source": [
        "Answer Here."
      ]
    },
    {
      "cell_type": "markdown",
      "metadata": {
        "id": "YPEH6qLeZNRQ"
      },
      "source": [
        "##### 2. What is/are the insight(s) found from the chart?"
      ]
    },
    {
      "cell_type": "markdown",
      "metadata": {
        "id": "bfSqtnDqZNRR"
      },
      "source": [
        "Answer Here"
      ]
    },
    {
      "cell_type": "markdown",
      "metadata": {
        "id": "q29F0dvdveiT"
      },
      "source": [
        "#### Chart - 15 - Pair Plot"
      ]
    },
    {
      "cell_type": "code",
      "execution_count": 67,
      "metadata": {
        "id": "o58-TEIhveiU"
      },
      "outputs": [],
      "source": [
        "# Pair Plot visualization code"
      ]
    },
    {
      "cell_type": "markdown",
      "metadata": {
        "id": "EXh0U9oCveiU"
      },
      "source": [
        "##### 1. Why did you pick the specific chart?"
      ]
    },
    {
      "cell_type": "markdown",
      "metadata": {
        "id": "eMmPjTByveiU"
      },
      "source": [
        "Answer Here."
      ]
    },
    {
      "cell_type": "markdown",
      "metadata": {
        "id": "22aHeOlLveiV"
      },
      "source": [
        "##### 2. What is/are the insight(s) found from the chart?"
      ]
    },
    {
      "cell_type": "markdown",
      "metadata": {
        "id": "uPQ8RGwHveiV"
      },
      "source": [
        "Answer Here"
      ]
    },
    {
      "cell_type": "markdown",
      "metadata": {
        "id": "JcMwzZxoAimU"
      },
      "source": [
        "## **5. Solution to Business Objective**"
      ]
    },
    {
      "cell_type": "markdown",
      "metadata": {
        "id": "8G2x9gOozGDZ"
      },
      "source": [
        "#### What do you suggest the client to achieve Business Objective ?\n",
        "Explain Briefly."
      ]
    },
    {
      "cell_type": "markdown",
      "metadata": {
        "id": "pASKb0qOza21"
      },
      "source": [
        "Answer Here."
      ]
    },
    {
      "cell_type": "markdown",
      "metadata": {
        "id": "gCX9965dhzqZ"
      },
      "source": [
        "# **Conclusion**"
      ]
    },
    {
      "cell_type": "markdown",
      "metadata": {
        "id": "Fjb1IsQkh3yE"
      },
      "source": [
        "Write the conclusion here."
      ]
    },
    {
      "cell_type": "markdown",
      "metadata": {
        "id": "gIfDvo9L0UH2"
      },
      "source": [
        "### ***Hurrah! You have successfully completed your EDA Capstone Project !!!***"
      ]
    },
    {
      "cell_type": "code",
      "execution_count": null,
      "metadata": {
        "id": "dYX880etpL0x"
      },
      "outputs": [],
      "source": []
    },
    {
      "cell_type": "code",
      "execution_count": null,
      "metadata": {
        "id": "-6Vl263upPVI"
      },
      "outputs": [],
      "source": []
    }
  ],
  "metadata": {
    "colab": {
      "collapsed_sections": [
        "vncDsAP0Gaoa",
        "FJNUwmbgGyua",
        "w6K7xa23Elo4",
        "yQaldy8SH6Dl",
        "PH-0ReGfmX4f",
        "mDgbUHAGgjLW",
        "O_i_v8NEhb9l",
        "HhfV-JJviCcP",
        "Y3lxredqlCYt",
        "3RnN4peoiCZX",
        "x71ZqKXriCWQ",
        "7hBIi_osiCS2",
        "JlHwYmJAmNHm",
        "35m5QtbWiB9F",
        "PoPl-ycgm1ru",
        "H0kj-8xxnORC",
        "nA9Y7ga8ng1Z",
        "PBTbrJXOngz2",
        "u3PMJOP6ngxN",
        "dauF4eBmngu3",
        "bKJF3rekwFvQ",
        "MSa1f5Uengrz",
        "GF8Ens_Soomf",
        "0wOQAZs5pc--",
        "K5QZ13OEpz2H",
        "lQ7QKXXCp7Bj",
        "448CDAPjqfQr",
        "KSlN3yHqYklG",
        "t6dVpIINYklI",
        "ijmpgYnKYklI",
        "-JiQyfWJYklI",
        "EM7whBJCYoAo",
        "fge-S5ZAYoAp",
        "85gYPyotYoAp",
        "RoGjAbkUYoAp",
        "4Of9eVA-YrdM",
        "iky9q4vBYrdO",
        "F6T5p64dYrdO",
        "y-Ehk30pYrdP",
        "bamQiAODYuh1",
        "QHF8YVU7Yuh3",
        "GwzvFGzlYuh3",
        "qYpmQ266Yuh3",
        "OH-pJp9IphqM",
        "bbFf2-_FphqN",
        "_ouA3fa0phqN",
        "Seke61FWphqN",
        "PIIx-8_IphqN",
        "t27r6nlMphqO",
        "r2jJGEOYphqO",
        "b0JNsNcRphqO",
        "BZR9WyysphqO",
        "jj7wYXLtphqO",
        "eZrbJ2SmphqO",
        "rFu4xreNphqO",
        "YJ55k-q6phqO",
        "gCFgpxoyphqP",
        "OVtJsKN_phqQ",
        "lssrdh5qphqQ",
        "U2RJ9gkRphqQ",
        "1M8mcRywphqQ",
        "tgIPom80phqQ",
        "JMzcOPDDphqR",
        "x-EpHcCOp1ci",
        "X_VqEhTip1ck",
        "8zGJKyg5p1ck",
        "PVzmfK_Ep1ck",
        "n3dbpmDWp1ck",
        "ylSl6qgtp1ck",
        "ZWILFDl5p1ck",
        "M7G43BXep1ck",
        "Ag9LCva-p1cl",
        "E6MkPsBcp1cl",
        "2cELzS2fp1cl",
        "3MPXvC8up1cl",
        "NC_X3p0fY2L0",
        "UV0SzAkaZNRQ",
        "YPEH6qLeZNRQ",
        "q29F0dvdveiT",
        "EXh0U9oCveiU",
        "22aHeOlLveiV",
        "JcMwzZxoAimU",
        "8G2x9gOozGDZ",
        "gCX9965dhzqZ",
        "gIfDvo9L0UH2"
      ],
      "private_outputs": true,
      "provenance": []
    },
    "kernelspec": {
      "display_name": "Python 3",
      "name": "python3"
    },
    "language_info": {
      "codemirror_mode": {
        "name": "ipython",
        "version": 3
      },
      "file_extension": ".py",
      "mimetype": "text/x-python",
      "name": "python",
      "nbconvert_exporter": "python",
      "pygments_lexer": "ipython3",
      "version": "3.13.4"
    }
  },
  "nbformat": 4,
  "nbformat_minor": 0
}
